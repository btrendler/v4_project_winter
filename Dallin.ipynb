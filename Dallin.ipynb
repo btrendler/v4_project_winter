{
 "cells": [
  {
   "cell_type": "code",
   "execution_count": 102,
   "metadata": {},
   "outputs": [],
   "source": [
    "import numpy as np\n",
    "from scipy.optimize import root\n",
    "from scipy.integrate import solve_ivp\n",
    "from scipy.linalg import solve_continuous_are\n",
    "import matplotlib.pyplot as plt\n",
    "from scipy.interpolate import CubicSpline\n",
    "from scipy import linalg"
   ]
  },
  {
   "cell_type": "markdown",
   "metadata": {},
   "source": [
    "### LQR Finite-Horizon Approach"
   ]
  },
  {
   "cell_type": "code",
   "execution_count": 103,
   "metadata": {},
   "outputs": [],
   "source": [
    "def linearized_init(delta, gamma, m0, c, q1, q2, q3, q4, q5, q6, r, m):\n",
    "    \"\"\" Finite LQR Setup for freeway onramp\n",
    "    Parameters:\n",
    "    ----------\n",
    "        delta, gamma: floats\n",
    "            tunable paramaters for pre-merge freeway entering and leaving rates\n",
    "        m0   : float\n",
    "            initial number of cars in the merge area on a given interval \n",
    "        qi, r, m : floats\n",
    "            q_k weights in Q matrix\n",
    "            r weights in R matrix\n",
    "            m weights in M matrix\n",
    "\n",
    "\n",
    "    Return\n",
    "    -------\n",
    "        A : ndarray of shape (6,6)\n",
    "            State evolution equation matrix for q(t)\n",
    "        B : ndarray of shape (6,1)\n",
    "            State evolution equation matrix for u(t)\n",
    "        Q : ndarray of shape (6,6)\n",
    "            Cost functional matrix for q(t)\n",
    "        R : ndarray of shape (1,1)\n",
    "            Cost functional matrix for u(t)\n",
    "        M : ndarray of shape (6,6)\n",
    "            Cost functional matrix for q(tf)\n",
    "    \"\"\"\n",
    "    # Taylor Series expand the rate of cars leaving the merging area to linearize\n",
    "    f_m = -delta*m0 - delta*m0**2/c + (-delta - 2*delta*m0/c)\n",
    "\n",
    "    # [alpha, beta, m, l, n, q]\n",
    "    A = np.array([\n",
    "        [0,0,0,0,0,0],\n",
    "        [0,0,0,0,0,0],\n",
    "        [0,0,f_m,0,gamma,0],\n",
    "        [0,0,-f_m,0,0,0],\n",
    "        [1,0,0,0,-gamma,0],\n",
    "        [0,1,0,0,0,0]\n",
    "    ])\n",
    "\n",
    "    B = np.array([0,0,1,0,0,-1]).reshape(-1,1)\n",
    "    Q = np.diag(np.array([q1, q2, q3, q4, q5, q6]))\n",
    "    R = np.array([[r]])\n",
    "    M = np.eye(6)*m\n",
    "\n",
    "    # TODO: Endpoint Cost?\n",
    "    # TODO: Infinite Time?\n",
    "\n",
    "    return A, B, Q, R, M"
   ]
  },
  {
   "cell_type": "code",
   "execution_count": 104,
   "metadata": {},
   "outputs": [],
   "source": [
    "def onramp_solver_finite_horizon(A, B, Q, R, M, tf):\n",
    "    \"\"\" Onramp solver for Finite Horizon LQR\n",
    "        Uses Idea from 19.2 to find P(t) and then solve Ricatti\n",
    "\n",
    "    Parameters:\n",
    "    -----------\n",
    "        A : ndarray of shape (6,6)\n",
    "            State evolution equation matrix for q(t)\n",
    "        B : ndarray of shape (6,1)\n",
    "            State evolution equation matrix for u(t)\n",
    "        Q : ndarray of shape (6,6)\n",
    "            Cost functional matrix for q(t)\n",
    "        R : ndarray of shape (1,1)\n",
    "            Cost functional matrix for u(t)\n",
    "        M : ndarray of shape (6,6)\n",
    "            Cost functional matrix for q(tf)\n",
    "    \"\"\"\n",
    "    # Setup R inverse\n",
    "    R_inv = np.linalg.inv(R)\n",
    "\n",
    "\n",
    "    # Setup the evolution equation for the Riccati \n",
    "    # equation (the linear 2D version)\n",
    "    def riccati(t,x):\n",
    "        dxdt = np.zeros((72))\n",
    "        x=x.reshape((12,6))\n",
    "        X = x[:6]\n",
    "        Y = x[6:]\n",
    "        dxdt[:36] = ((A @ X) + (0.5*B @ R_inv @ B.T @ Y)).flatten()\n",
    "        dxdt[36:] = ((2*Q @ X) - (A.T @ Y)).flatten()\n",
    "        return dxdt\n",
    "\n",
    "    # Solve the Riccati equation, and make sure to\n",
    "    # save the output densely so we can interpolate later on\n",
    "    xf = np.zeros((72))\n",
    "    xf[:36] = np.eye(6).flatten() # X(tf)\n",
    "    xf[36:] = (-2*M).flatten() # Y(tf)\n",
    "    p_sol = solve_ivp(riccati, [tf,0], xf, dense_output=True)\n",
    "\n",
    "    # Setup the evolution equation with optimal control selected\n",
    "    def onramp_evolve(t,y,p_sol):\n",
    "        sol_p = p_sol.sol(t).reshape((12,6))\n",
    "        X = sol_p[:6]\n",
    "        Y = sol_p[6:]\n",
    "        X_inv = np.linalg.inv(X)\n",
    "        P = -.5*Y@X_inv\n",
    "        return (A-B@R_inv@B.T@P)@y\n",
    "\n",
    "    # Solve the forward model for the onramp,\n",
    "    # Then compute the optimal control from the optimal state,\n",
    "    # and plot the results\n",
    "    y0 = np.array([1,1,1,1,1,1])\n",
    "    final_sol = solve_ivp(onramp_evolve, [0,tf], y0, args=[p_sol], dense_output=True)\n",
    "\n",
    "    return final_sol, p_sol"
   ]
  },
  {
   "cell_type": "code",
   "execution_count": 110,
   "metadata": {},
   "outputs": [
    {
     "data": {
      "image/png": "[encoded data removed]",
      "text/plain": [
       "<Figure size 720x720 with 1 Axes>"
      ]
     },
     "metadata": {
      "needs_background": "light"
     },
     "output_type": "display_data"
    }
   ],
   "source": [
    "# Setup initial values and conditions for onramp\n",
    "# delta, gamma, m0, c = 0.5, 0.3, 1.0, 4.0\n",
    "# q1, q2, q3, q4, q5, q6 = 1.0, 1.0, 1.0, 1.0, 1.0, 1.0\n",
    "# r, m = 1.0, 1.0\n",
    "\n",
    "delta, gamma, m0, c = 0.5, 0.3, 1.0, 2.0\n",
    "q1, q2, q3, q4, q5, q6 = 0.0, 0.0, 1.0, 1.0, 1.0, 4.0\n",
    "r, m = 1.0, 1.0\n",
    "n_count = 1001\n",
    "tf = 10\n",
    "t_space = np.linspace(0,tf,n_count)\n",
    "\n",
    "# Get LQR Matrices and Solve the Ricatti Equations for the state and costate\n",
    "A, B, Q, R, M = linearized_init(delta, gamma, m0, c, q1, q2, q3, q4, q5, q6, r, m)\n",
    "final_sol, p_sol = onramp_solver_finite_horizon(A, B, Q, R, M, tf)\n",
    "R_inv = np.linalg.inv(R)\n",
    "\n",
    "# Unpack the solution\n",
    "solution = final_sol.sol(t_space)\n",
    "alpha, beta, m, l, n, q = solution\n",
    "\n",
    "# Calculate the optimal control\n",
    "X = p_sol.sol(t_space)[:36,:]\n",
    "Y = p_sol.sol(t_space)[36:,:]\n",
    "u = np.zeros(n_count)\n",
    "for t in range(n_count):\n",
    "    X_t = X[:,t].reshape((6,6))\n",
    "    Y_t = Y[:,t].reshape((6,6))\n",
    "    X_t_inv = np.linalg.inv(X_t)\n",
    "    P = -0.5*Y_t @ X_t_inv\n",
    "    u[t] = (-R_inv @ B.T @ P @ solution[:,t].reshape(-1,1))[0][0]\n",
    "\n",
    "plt.figure(figsize=(10,10))\n",
    "# plt.plot(t_space, alpha, label=\"alpha\")\n",
    "# plt.plot(t_space, beta, label=\"beta\")\n",
    "plt.plot(t_space, m, label=\"m\")\n",
    "plt.plot(t_space, l, label=\"l\")\n",
    "plt.plot(t_space, n, label=\"n\")\n",
    "plt.plot(t_space, q, label=\"q\")\n",
    "plt.plot(t_space, u, label=\"u\")\n",
    "plt.legend()\n",
    "plt.show()"
   ]
  },
  {
   "cell_type": "markdown",
   "metadata": {},
   "source": [
    "### LQR Infinite Horizon Approach"
   ]
  },
  {
   "cell_type": "code",
   "execution_count": 106,
   "metadata": {},
   "outputs": [],
   "source": [
    "def onramp_solver_infinite_horizon(A, B, Q, R):\n",
    "    \"\"\" Onramp solver for Infinite Horizon LQR\n",
    "        Uses Continuous LQR\n",
    "\n",
    "    Parameters:\n",
    "    -----------\n",
    "        A : ndarray of shape (6,6)\n",
    "            State evolution equation matrix for q(t)\n",
    "        B : ndarray of shape (6,1)\n",
    "            State evolution equation matrix for u(t)\n",
    "        Q : ndarray of shape (6,6)\n",
    "            Cost functional matrix for q(t)\n",
    "        R : ndarray of shape (1,1)\n",
    "            Cost functional matrix for u(t)\n",
    "        M : ndarray of shape (6,6)\n",
    "            Cost functional matrix for q(tf)\n",
    "    \"\"\"\n",
    "    R_inv = np.linalg.inv(R)\n",
    "\n",
    "    # Solve for P with the algebraic Riccati equation\n",
    "    P = linalg.solve_continuous_are(A,B,Q,R)\n",
    "\n",
    "    # Setup the evolution equation with optimal control selected\n",
    "    def onramp_evolve(t,y):\n",
    "        return (A - B @ R_inv @ B.T @ P) @ y\n",
    "    \n",
    "    # Solve the optimal state evolution\n",
    "    y0 = np.array([1,1,1,1,1,1])\n",
    "    sol = solve_ivp(onramp_evolve, [0,1], y0, dense_output=True)\n",
    "    return sol"
   ]
  },
  {
   "cell_type": "code",
   "execution_count": 107,
   "metadata": {},
   "outputs": [
    {
     "ename": "LinAlgError",
     "evalue": "Failed to find a finite solution.",
     "output_type": "error",
     "traceback": [
      "\u001b[0;31m---------------------------------------------------------------------------\u001b[0m",
      "\u001b[0;31mLinAlgError\u001b[0m                               Traceback (most recent call last)",
      "\u001b[0;32m/tmp/ipykernel_285/717607180.py\u001b[0m in \u001b[0;36m<module>\u001b[0;34m\u001b[0m\n\u001b[1;32m      8\u001b[0m \u001b[0;31m# Get LQR Matrices and Solve the Ricatti Equations for the state and costate\u001b[0m\u001b[0;34m\u001b[0m\u001b[0;34m\u001b[0m\u001b[0m\n\u001b[1;32m      9\u001b[0m \u001b[0mA\u001b[0m\u001b[0;34m,\u001b[0m \u001b[0mB\u001b[0m\u001b[0;34m,\u001b[0m \u001b[0mQ\u001b[0m\u001b[0;34m,\u001b[0m \u001b[0mR\u001b[0m\u001b[0;34m,\u001b[0m \u001b[0mM\u001b[0m \u001b[0;34m=\u001b[0m \u001b[0mlinearized_init\u001b[0m\u001b[0;34m(\u001b[0m\u001b[0mdelta\u001b[0m\u001b[0;34m,\u001b[0m \u001b[0mgamma\u001b[0m\u001b[0;34m,\u001b[0m \u001b[0mm0\u001b[0m\u001b[0;34m,\u001b[0m \u001b[0mc\u001b[0m\u001b[0;34m,\u001b[0m \u001b[0mq1\u001b[0m\u001b[0;34m,\u001b[0m \u001b[0mq2\u001b[0m\u001b[0;34m,\u001b[0m \u001b[0mq3\u001b[0m\u001b[0;34m,\u001b[0m \u001b[0mq4\u001b[0m\u001b[0;34m,\u001b[0m \u001b[0mq5\u001b[0m\u001b[0;34m,\u001b[0m \u001b[0mq6\u001b[0m\u001b[0;34m,\u001b[0m \u001b[0mr\u001b[0m\u001b[0;34m,\u001b[0m \u001b[0mm\u001b[0m\u001b[0;34m)\u001b[0m\u001b[0;34m\u001b[0m\u001b[0;34m\u001b[0m\u001b[0m\n\u001b[0;32m---> 10\u001b[0;31m \u001b[0msol\u001b[0m \u001b[0;34m=\u001b[0m \u001b[0monramp_solver_infinite_horizon\u001b[0m\u001b[0;34m(\u001b[0m\u001b[0mA\u001b[0m\u001b[0;34m,\u001b[0m \u001b[0mB\u001b[0m\u001b[0;34m,\u001b[0m \u001b[0mQ\u001b[0m\u001b[0;34m,\u001b[0m \u001b[0mR\u001b[0m\u001b[0;34m)\u001b[0m\u001b[0;34m\u001b[0m\u001b[0;34m\u001b[0m\u001b[0m\n\u001b[0m\u001b[1;32m     11\u001b[0m \u001b[0;34m\u001b[0m\u001b[0m\n\u001b[1;32m     12\u001b[0m \u001b[0mprint\u001b[0m\u001b[0;34m(\u001b[0m\u001b[0msol\u001b[0m\u001b[0;34m.\u001b[0m\u001b[0msol\u001b[0m\u001b[0;34m(\u001b[0m\u001b[0mt\u001b[0m\u001b[0;34m)\u001b[0m\u001b[0;34m.\u001b[0m\u001b[0mshape\u001b[0m\u001b[0;34m)\u001b[0m\u001b[0;34m\u001b[0m\u001b[0;34m\u001b[0m\u001b[0m\n",
      "\u001b[0;32m/tmp/ipykernel_285/1133798061.py\u001b[0m in \u001b[0;36monramp_solver_infinite_horizon\u001b[0;34m(A, B, Q, R)\u001b[0m\n\u001b[1;32m     19\u001b[0m \u001b[0;34m\u001b[0m\u001b[0m\n\u001b[1;32m     20\u001b[0m     \u001b[0;31m# Solve for P with the algebraic Riccati equation\u001b[0m\u001b[0;34m\u001b[0m\u001b[0;34m\u001b[0m\u001b[0m\n\u001b[0;32m---> 21\u001b[0;31m     \u001b[0mP\u001b[0m \u001b[0;34m=\u001b[0m \u001b[0mlinalg\u001b[0m\u001b[0;34m.\u001b[0m\u001b[0msolve_continuous_are\u001b[0m\u001b[0;34m(\u001b[0m\u001b[0mA\u001b[0m\u001b[0;34m,\u001b[0m\u001b[0mB\u001b[0m\u001b[0;34m,\u001b[0m\u001b[0mQ\u001b[0m\u001b[0;34m,\u001b[0m\u001b[0mR\u001b[0m\u001b[0;34m)\u001b[0m\u001b[0;34m\u001b[0m\u001b[0;34m\u001b[0m\u001b[0m\n\u001b[0m\u001b[1;32m     22\u001b[0m \u001b[0;34m\u001b[0m\u001b[0m\n\u001b[1;32m     23\u001b[0m     \u001b[0;31m# Setup the evolution equation with optimal control selected\u001b[0m\u001b[0;34m\u001b[0m\u001b[0;34m\u001b[0m\u001b[0m\n",
      "\u001b[0;32m/usr/lib/python3/dist-packages/scipy/linalg/_solvers.py\u001b[0m in \u001b[0;36msolve_continuous_are\u001b[0;34m(a, b, q, r, e, s, balanced)\u001b[0m\n\u001b[1;32m    501\u001b[0m     \u001b[0mup\u001b[0m\u001b[0;34m,\u001b[0m \u001b[0mul\u001b[0m\u001b[0;34m,\u001b[0m \u001b[0muu\u001b[0m \u001b[0;34m=\u001b[0m \u001b[0mlu\u001b[0m\u001b[0;34m(\u001b[0m\u001b[0mu00\u001b[0m\u001b[0;34m)\u001b[0m\u001b[0;34m\u001b[0m\u001b[0;34m\u001b[0m\u001b[0m\n\u001b[1;32m    502\u001b[0m     \u001b[0;32mif\u001b[0m \u001b[0;36m1\u001b[0m\u001b[0;34m/\u001b[0m\u001b[0mcond\u001b[0m\u001b[0;34m(\u001b[0m\u001b[0muu\u001b[0m\u001b[0;34m)\u001b[0m \u001b[0;34m<\u001b[0m \u001b[0mnp\u001b[0m\u001b[0;34m.\u001b[0m\u001b[0mspacing\u001b[0m\u001b[0;34m(\u001b[0m\u001b[0;36m1.\u001b[0m\u001b[0;34m)\u001b[0m\u001b[0;34m:\u001b[0m\u001b[0;34m\u001b[0m\u001b[0;34m\u001b[0m\u001b[0m\n\u001b[0;32m--> 503\u001b[0;31m         \u001b[0;32mraise\u001b[0m \u001b[0mLinAlgError\u001b[0m\u001b[0;34m(\u001b[0m\u001b[0;34m'Failed to find a finite solution.'\u001b[0m\u001b[0;34m)\u001b[0m\u001b[0;34m\u001b[0m\u001b[0;34m\u001b[0m\u001b[0m\n\u001b[0m\u001b[1;32m    504\u001b[0m \u001b[0;34m\u001b[0m\u001b[0m\n\u001b[1;32m    505\u001b[0m     \u001b[0;31m# Exploit the triangular structure\u001b[0m\u001b[0;34m\u001b[0m\u001b[0;34m\u001b[0m\u001b[0m\n",
      "\u001b[0;31mLinAlgError\u001b[0m: Failed to find a finite solution."
     ]
    }
   ],
   "source": [
    "# Setup initial values and conditions for onramp\n",
    "delta, gamma, m0, c = 0.5, 0.3, 1.0, 4.0\n",
    "q1, q2, q3, q4, q5, q6 = 1.0, 1.0, 1.0, 1.0, 1.0, 1.0\n",
    "r, m = 1.0, 1.0\n",
    "n_count = 101\n",
    "t_space = np.linspace(0,1,n_count)\n",
    "\n",
    "# Get LQR Matrices and Solve the Ricatti Equations for the state and costate\n",
    "A, B, Q, R, M = linearized_init(delta, gamma, m0, c, q1, q2, q3, q4, q5, q6, r, m)\n",
    "sol = onramp_solver_infinite_horizon(A, B, Q, R)\n",
    "\n",
    "print(sol.sol(t).shape)"
   ]
  }
 ],
 "metadata": {
  "kernelspec": {
   "display_name": "Python 3",
   "language": "python",
   "name": "python3"
  },
  "language_info": {
   "codemirror_mode": {
    "name": "ipython",
    "version": 3
   },
   "file_extension": ".py",
   "mimetype": "text/x-python",
   "name": "python",
   "nbconvert_exporter": "python",
   "pygments_lexer": "ipython3",
   "version": "3.10.12"
  }
 },
 "nbformat": 4,
 "nbformat_minor": 2
}
