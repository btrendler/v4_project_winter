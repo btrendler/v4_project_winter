{
 "cells": [
  {
   "cell_type": "code",
   "execution_count": 4,
   "metadata": {},
   "outputs": [],
   "source": [
    "import numpy as np\n",
    "from scipy.optimize import root\n",
    "from scipy.integrate import solve_ivp\n",
    "from scipy.linalg import solve_continuous_are\n",
    "import matplotlib.pyplot as plt\n",
    "from scipy.interpolate import CubicSpline\n",
    "from scipy import linalg"
   ]
  },
  {
   "cell_type": "markdown",
   "metadata": {},
   "source": [
    "### LQR Finite-Horizon Approach"
   ]
  },
  {
   "cell_type": "code",
   "execution_count": 16,
   "metadata": {},
   "outputs": [],
   "source": [
    "def linearized_init(delta, gamma, m0, c, q1, q2, q3, q4, q5, q6, q7, r, m):\n",
    "    \"\"\" Finite LQR Setup for freeway onramp\n",
    "    Parameters:\n",
    "    ----------\n",
    "        delta, gamma: floats\n",
    "            tunable paramaters for pre-merge freeway entering and leaving rates\n",
    "        m0   : float\n",
    "            initial number of cars in the merge area on a given interval \n",
    "        qi, r, m : floats\n",
    "            q_k weights in Q matrix\n",
    "            r weights in R matrix\n",
    "            m weights in M matrix\n",
    "\n",
    "\n",
    "    Return\n",
    "    -------\n",
    "        A : ndarray of shape (6,6)\n",
    "            State evolution equation matrix for q(t)\n",
    "        B : ndarray of shape (6,1)\n",
    "            State evolution equation matrix for u(t)\n",
    "        Q : ndarray of shape (6,6)\n",
    "            Cost functional matrix for q(t)\n",
    "        R : ndarray of shape (1,1)\n",
    "            Cost functional matrix for u(t)\n",
    "        M : ndarray of shape (6,6)\n",
    "            Cost functional matrix for q(tf)\n",
    "    \"\"\"\n",
    "    # [alpha, beta, m, l, n, q]\n",
    "    A = np.array([\n",
    "        [0,0,0,0,0,0,0],\n",
    "        [0,0,0,0,0,0,0],\n",
    "        [0,0,0,0,0,0,0],\n",
    "        [0,0,1,-delta-2*delta*m0/c,0,delta,0],\n",
    "        [0,0,-1,delta+2*delta*m0/c,0,0,0],\n",
    "        [1,0,0,0,0,-delta,0],\n",
    "        [0,1,0,0,0,0,0]\n",
    "    ])\n",
    "\n",
    "    B = np.array([0,0,0,1,0,0,-1]).reshape(-1,1)\n",
    "    Q = np.diag(np.array([q1, q2, q3, q4, q5, q6,q7]))\n",
    "    R = np.array([[r]])\n",
    "    M = np.eye(7)*m\n",
    "\n",
    "\n",
    "    return A, B, Q, R, M"
   ]
  },
  {
   "cell_type": "code",
   "execution_count": 6,
   "metadata": {},
   "outputs": [],
   "source": [
    "def onramp_solver_finite_horizon(A, B, Q, R, M, tf):\n",
    "    \"\"\" Onramp solver for Finite Horizon LQR\n",
    "        Uses Idea from 19.2 to find P(t) and then solve Ricatti\n",
    "\n",
    "    Parameters:\n",
    "    -----------\n",
    "        A : ndarray of shape (6,6)\n",
    "            State evolution equation matrix for q(t)\n",
    "        B : ndarray of shape (6,1)\n",
    "            State evolution equation matrix for u(t)\n",
    "        Q : ndarray of shape (6,6)\n",
    "            Cost functional matrix for q(t)\n",
    "        R : ndarray of shape (1,1)\n",
    "            Cost functional matrix for u(t)\n",
    "        M : ndarray of shape (6,6)\n",
    "            Cost functional matrix for q(tf)\n",
    "    \"\"\"\n",
    "    # Setup R inverse\n",
    "    R_inv = np.linalg.inv(R)\n",
    "\n",
    "\n",
    "    # Setup the evolution equation for the Riccati \n",
    "    # equation (the linear 2D version)\n",
    "    def riccati(t,x):\n",
    "        dxdt = np.zeros((72))\n",
    "        x=x.reshape((12,6))\n",
    "        X = x[:6]\n",
    "        Y = x[6:]\n",
    "        dxdt[:36] = ((A @ X) + (0.5*B @ R_inv @ B.T @ Y)).flatten()\n",
    "        dxdt[36:] = ((2*Q @ X) - (A.T @ Y)).flatten()\n",
    "        return dxdt\n",
    "\n",
    "    # Solve the Riccati equation, and make sure to\n",
    "    # save the output densely so we can interpolate later on\n",
    "    xf = np.zeros((72))\n",
    "    xf[:36] = np.eye(6).flatten() # X(tf)\n",
    "    xf[36:] = (-2*M).flatten() # Y(tf)\n",
    "    p_sol = solve_ivp(riccati, [tf,0], xf, dense_output=True)\n",
    "\n",
    "    # Setup the evolution equation with optimal control selected\n",
    "    def onramp_evolve(t,y,p_sol):\n",
    "        sol_p = p_sol.sol(t).reshape((12,6))\n",
    "        X = sol_p[:6]\n",
    "        Y = sol_p[6:]\n",
    "        X_inv = np.linalg.inv(X)\n",
    "        P = -.5*Y@X_inv\n",
    "        return (A-B@R_inv@B.T@P)@y\n",
    "\n",
    "    # Solve the forward model for the onramp,\n",
    "    # Then compute the optimal control from the optimal state,\n",
    "    # and plot the results\n",
    "    y0 = np.array([1,1,1,1,1,1])\n",
    "    final_sol = solve_ivp(onramp_evolve, [0,tf], y0, args=[p_sol], dense_output=True)\n",
    "\n",
    "    return final_sol, p_sol"
   ]
  },
  {
   "cell_type": "code",
   "execution_count": 7,
   "metadata": {},
   "outputs": [
    {
     "ename": "TypeError",
     "evalue": "linearized_init() missing 1 required positional argument: 'm'",
     "output_type": "error",
     "traceback": [
      "\u001b[0;31m---------------------------------------------------------------------------\u001b[0m",
      "\u001b[0;31mTypeError\u001b[0m                                 Traceback (most recent call last)",
      "Cell \u001b[0;32mIn[7], line 14\u001b[0m\n\u001b[1;32m     11\u001b[0m t_space \u001b[38;5;241m=\u001b[39m np\u001b[38;5;241m.\u001b[39mlinspace(\u001b[38;5;241m0\u001b[39m,tf,n_count)\n\u001b[1;32m     13\u001b[0m \u001b[38;5;66;03m# Get LQR Matrices and Solve the Ricatti Equations for the state and costate\u001b[39;00m\n\u001b[0;32m---> 14\u001b[0m A, B, Q, R, M \u001b[38;5;241m=\u001b[39m \u001b[43mlinearized_init\u001b[49m\u001b[43m(\u001b[49m\u001b[43mdelta\u001b[49m\u001b[43m,\u001b[49m\u001b[43m \u001b[49m\u001b[43mgamma\u001b[49m\u001b[43m,\u001b[49m\u001b[43m \u001b[49m\u001b[43mm0\u001b[49m\u001b[43m,\u001b[49m\u001b[43m \u001b[49m\u001b[43mc\u001b[49m\u001b[43m,\u001b[49m\u001b[43m \u001b[49m\u001b[43mq1\u001b[49m\u001b[43m,\u001b[49m\u001b[43m \u001b[49m\u001b[43mq2\u001b[49m\u001b[43m,\u001b[49m\u001b[43m \u001b[49m\u001b[43mq3\u001b[49m\u001b[43m,\u001b[49m\u001b[43m \u001b[49m\u001b[43mq4\u001b[49m\u001b[43m,\u001b[49m\u001b[43m \u001b[49m\u001b[43mq5\u001b[49m\u001b[43m,\u001b[49m\u001b[43m \u001b[49m\u001b[43mq6\u001b[49m\u001b[43m,\u001b[49m\u001b[43m \u001b[49m\u001b[43mr\u001b[49m\u001b[43m,\u001b[49m\u001b[43m \u001b[49m\u001b[43mm\u001b[49m\u001b[43m)\u001b[49m\n\u001b[1;32m     15\u001b[0m final_sol, p_sol \u001b[38;5;241m=\u001b[39m onramp_solver_finite_horizon(A, B, Q, R, M, tf)\n\u001b[1;32m     16\u001b[0m R_inv \u001b[38;5;241m=\u001b[39m np\u001b[38;5;241m.\u001b[39mlinalg\u001b[38;5;241m.\u001b[39minv(R)\n",
      "\u001b[0;31mTypeError\u001b[0m: linearized_init() missing 1 required positional argument: 'm'"
     ]
    }
   ],
   "source": [
    "# Setup initial values and conditions for onramp\n",
    "# delta, gamma, m0, c = 0.5, 0.3, 1.0, 4.0\n",
    "# q1, q2, q3, q4, q5, q6 = 1.0, 1.0, 1.0, 1.0, 1.0, 1.0\n",
    "# r, m = 1.0, 1.0\n",
    "\n",
    "delta, gamma, m0, c = 0.5, 0.3, 1.0, 2.0\n",
    "q1, q2, q3, q4, q5, q6 = 0.0, 0.0, 1.0, 1.0, 1.0, 4.0\n",
    "r, m = 1.0, 1.0\n",
    "n_count = 1001\n",
    "tf = 10\n",
    "t_space = np.linspace(0,tf,n_count)\n",
    "\n",
    "# Get LQR Matrices and Solve the Ricatti Equations for the state and costate\n",
    "A, B, Q, R, M = linearized_init(delta, gamma, m0, c, q1, q2, q3, q4, q5, q6, r, m)\n",
    "final_sol, p_sol = onramp_solver_finite_horizon(A, B, Q, R, M, tf)\n",
    "R_inv = np.linalg.inv(R)\n",
    "\n",
    "# Unpack the solution\n",
    "solution = final_sol.sol(t_space)\n",
    "alpha, beta, m, l, n, q = solution\n",
    "\n",
    "# Calculate the optimal control\n",
    "X = p_sol.sol(t_space)[:36,:]\n",
    "Y = p_sol.sol(t_space)[36:,:]\n",
    "u = np.zeros(n_count)\n",
    "for t in range(n_count):\n",
    "    X_t = X[:,t].reshape((6,6))\n",
    "    Y_t = Y[:,t].reshape((6,6))\n",
    "    X_t_inv = np.linalg.inv(X_t)\n",
    "    P = -0.5*Y_t @ X_t_inv\n",
    "    u[t] = (-R_inv @ B.T @ P @ solution[:,t].reshape(-1,1))[0][0]\n",
    "\n",
    "plt.figure(figsize=(10,10))\n",
    "# plt.plot(t_space, alpha, label=\"alpha\")\n",
    "# plt.plot(t_space, beta, label=\"beta\")\n",
    "plt.plot(t_space, m, label=\"m\")\n",
    "plt.plot(t_space, l, label=\"l\")\n",
    "plt.plot(t_space, n, label=\"n\")\n",
    "plt.plot(t_space, q, label=\"q\")\n",
    "plt.plot(t_space, u, label=\"u\")\n",
    "plt.legend()\n",
    "plt.show()"
   ]
  },
  {
   "cell_type": "markdown",
   "metadata": {},
   "source": [
    "### LQR Infinite Horizon Approach"
   ]
  },
  {
   "cell_type": "code",
   "execution_count": 14,
   "metadata": {},
   "outputs": [],
   "source": [
    "n_count = 1001\n",
    "u = np.zeros(n_count)\n",
    "def onramp_solver_infinite_horizon(A, B, Q, R, M, y0, t0, tf):\n",
    "    \"\"\" Onramp solver for Infinite Horizon LQR\n",
    "        Uses Continuous LQR\n",
    "\n",
    "    Parameters:\n",
    "    -----------\n",
    "        A : ndarray of shape (6,6)\n",
    "            State evolution equation matrix for q(t)\n",
    "        B : ndarray of shape (6,1)\n",
    "            State evolution equation matrix for u(t)\n",
    "        Q : ndarray of shape (6,6)\n",
    "            Cost functional matrix for q(t)\n",
    "        R : ndarray of shape (1,1)\n",
    "            Cost functional matrix for u(t)\n",
    "        M : ndarray of shape (6,6)\n",
    "            Cost functional matrix for q(tf)\n",
    "    \"\"\"\n",
    "    R_inv = np.linalg.inv(R)\n",
    "\n",
    "    # Solve for P with the algebraic Riccati equation\n",
    "    P = linalg.solve_discrete_are(A,B,Q,R)\n",
    "\n",
    "    # Setup the evolution equation with optimal control selected\n",
    "    def onramp_evolve(t,y):\n",
    "        return (A - B @ R_inv @ B.T @ P) @ y\n",
    "    \n",
    "    # Solve the optimal state evolution\n",
    "    sol = solve_ivp(onramp_evolve, [t0,tf], y0, dense_output=True)\n",
    "    return sol, P"
   ]
  },
  {
   "cell_type": "code",
   "execution_count": 8,
   "metadata": {},
   "outputs": [
    {
     "ename": "TypeError",
     "evalue": "onramp_solver_infinite_horizon() missing 4 required positional arguments: 'M', 'y0', 't0', and 'tf'",
     "output_type": "error",
     "traceback": [
      "\u001b[0;31m---------------------------------------------------------------------------\u001b[0m",
      "\u001b[0;31mTypeError\u001b[0m                                 Traceback (most recent call last)",
      "Cell \u001b[0;32mIn[8], line 10\u001b[0m\n\u001b[1;32m      8\u001b[0m \u001b[38;5;66;03m# Get LQR Matrices and Solve the Ricatti Equations for the state and costate\u001b[39;00m\n\u001b[1;32m      9\u001b[0m A, B, Q, R, M \u001b[38;5;241m=\u001b[39m linearized_init(delta, gamma, m0, c, q1, q2, q3, q4, q5, q6, r, m)\n\u001b[0;32m---> 10\u001b[0m sol \u001b[38;5;241m=\u001b[39m \u001b[43monramp_solver_infinite_horizon\u001b[49m\u001b[43m(\u001b[49m\u001b[43mA\u001b[49m\u001b[43m,\u001b[49m\u001b[43m \u001b[49m\u001b[43mB\u001b[49m\u001b[43m,\u001b[49m\u001b[43m \u001b[49m\u001b[43mQ\u001b[49m\u001b[43m,\u001b[49m\u001b[43m \u001b[49m\u001b[43mR\u001b[49m\u001b[43m)\u001b[49m\n\u001b[1;32m     12\u001b[0m \u001b[38;5;28mprint\u001b[39m(sol\u001b[38;5;241m.\u001b[39msol(t_space)\u001b[38;5;241m.\u001b[39mshape)\n",
      "\u001b[0;31mTypeError\u001b[0m: onramp_solver_infinite_horizon() missing 4 required positional arguments: 'M', 'y0', 't0', and 'tf'"
     ]
    }
   ],
   "source": [
    "# Setup initial values and conditions for onramp\n",
    "delta, gamma, m0, c = 0.5, 0.3, 1.0, 4.0\n",
    "q1, q2, q3, q4, q5, q6 = 0.0, 0.0, 1.0, 0.0, 1.0, 1.0\n",
    "r, m = 1.0, 1.0\n",
    "n_count = 101\n",
    "t_space = np.linspace(0,10,n_count)\n",
    "\n",
    "# Get LQR Matrices and Solve the Ricatti Equations for the state and costate\n",
    "A, B, Q, R, M = linearized_init(delta, gamma, m0, c, q1, q2, q3, q4, q5, q6, r, m)\n",
    "sol = onramp_solver_infinite_horizon(A, B, Q, R)\n",
    "\n",
    "print(sol.sol(t_space).shape)"
   ]
  },
  {
   "cell_type": "code",
   "execution_count": 9,
   "metadata": {},
   "outputs": [
    {
     "ename": "NameError",
     "evalue": "name 'sol' is not defined",
     "output_type": "error",
     "traceback": [
      "\u001b[0;31m---------------------------------------------------------------------------\u001b[0m",
      "\u001b[0;31mNameError\u001b[0m                                 Traceback (most recent call last)",
      "Cell \u001b[0;32mIn[9], line 1\u001b[0m\n\u001b[0;32m----> 1\u001b[0m plt\u001b[38;5;241m.\u001b[39mplot(t_space, \u001b[43msol\u001b[49m\u001b[38;5;241m.\u001b[39msol(t_space)[\u001b[38;5;241m2\u001b[39m], label\u001b[38;5;241m=\u001b[39m\u001b[38;5;124m\"\u001b[39m\u001b[38;5;124mm\u001b[39m\u001b[38;5;124m\"\u001b[39m)\n\u001b[1;32m      2\u001b[0m plt\u001b[38;5;241m.\u001b[39mplot(t_space, sol\u001b[38;5;241m.\u001b[39msol(t_space)[\u001b[38;5;241m3\u001b[39m], label\u001b[38;5;241m=\u001b[39m\u001b[38;5;124m\"\u001b[39m\u001b[38;5;124ml\u001b[39m\u001b[38;5;124m\"\u001b[39m)\n\u001b[1;32m      3\u001b[0m plt\u001b[38;5;241m.\u001b[39mplot(t_space, sol\u001b[38;5;241m.\u001b[39msol(t_space)[\u001b[38;5;241m4\u001b[39m], label\u001b[38;5;241m=\u001b[39m\u001b[38;5;124m\"\u001b[39m\u001b[38;5;124mn\u001b[39m\u001b[38;5;124m\"\u001b[39m)\n",
      "\u001b[0;31mNameError\u001b[0m: name 'sol' is not defined"
     ]
    }
   ],
   "source": [
    "plt.plot(t_space, sol.sol(t_space)[2], label=\"m\")\n",
    "plt.plot(t_space, sol.sol(t_space)[3], label=\"l\")\n",
    "plt.plot(t_space, sol.sol(t_space)[4], label=\"n\")\n",
    "plt.plot(t_space, sol.sol(t_space)[5], label=\"q\")\n",
    "plt.legend()\n",
    "plt.show()"
   ]
  },
  {
   "cell_type": "code",
   "execution_count": 64,
   "metadata": {},
   "outputs": [],
   "source": [
    "def multi_step_onramp_infinite_horizon(A, B, Q, R, M, y0, tf, num_intervals=10):\n",
    "    R_inv = np.linalg.inv(R)\n",
    "    n_count = 1001\n",
    "    time_intervals = np.linspace(0, tf, num_intervals+1)\n",
    "\n",
    "    alpha = np.zeros(n_count*num_intervals)\n",
    "    beta = np.zeros(n_count*num_intervals)\n",
    "    nu = np.zeros(n_count*num_intervals)\n",
    "    m = np.zeros(n_count*num_intervals)\n",
    "    l = np.zeros(n_count*num_intervals)\n",
    "    n = np.zeros(n_count*num_intervals)\n",
    "    q = np.zeros(n_count*num_intervals)\n",
    "    u = np.zeros(n_count*num_intervals)\n",
    "\n",
    "    for i in range(len(time_intervals)-1):\n",
    "        t0, tf = time_intervals[i], time_intervals[i+1]\n",
    "        t_space = np.linspace(t0, tf, n_count)\n",
    "        final_sol, P = onramp_solver_infinite_horizon(A, B, Q, R, M, y0, t0, tf)\n",
    "        i0, i1 = i*n_count, (i+1)*n_count\n",
    "\n",
    "        solution = final_sol.sol(t_space)\n",
    "        alpha[i0:i1], beta[i0:i1], nu[i0:i1], m[i0:i1], l[i0:i1], n[i0:i1], q[i0:i1] = solution\n",
    "\n",
    "        for t in range(n_count):\n",
    "            u[i0+t] = (-R_inv @ B.T @ P @ solution[:,t].reshape(-1,1))[0][0]\n",
    "\n",
    "        y0 = solution[:,-1]\n",
    "        m0 = y0[3]\n",
    "        y0[2] = -delta*m0 - delta*m0**2/c + (-delta - 2*delta*m0/c)*m0\n",
    "\n",
    "    return alpha, beta, nu, m, l, n, q, u,"
   ]
  },
  {
   "cell_type": "code",
   "execution_count": 71,
   "metadata": {},
   "outputs": [
    {
     "data": {
      "text/plain": [
       "<Figure size 3276.8x2457.6 with 0 Axes>"
      ]
     },
     "metadata": {},
     "output_type": "display_data"
    },
    {
     "data": {
      "image/png": "[encoded data removed]",
      "text/plain": [
       "<Figure size 562.5x300 with 1 Axes>"
      ]
     },
     "metadata": {},
     "output_type": "display_data"
    }
   ],
   "source": [
    "# delta, gamma, m0, c = 0.1, 0.3, 1.0, 2.0\n",
    "delta, gamma, m0, c = 0.5, 0.3, 1.0, 2.0\n",
    "q1, q2, q3, q4, q5, q6, q7 = 0.0, 0.0, 0.0, 4.0, 0.0, 3.0, 4.0\n",
    "nu = -delta*m0 - delta*m0**2/c + (-delta - 2*delta*m0/c)*m0\n",
    "r, m = 1.0, 1.0\n",
    "n_count = 1001\n",
    "tf = 10\n",
    "num_intervals = 500\n",
    "y0 = np.array([1,1,nu,1,1,1,1])\n",
    "t_space = np.linspace(0,tf,num_intervals*n_count)\n",
    "\n",
    "# Get LQR Matrices and Solve the Ricatti Equations for the state and costate\n",
    "A, B, Q, R, M = linearized_init(delta, gamma, m0, c, q1, q2, q3, q4, q5, q6, q7, r, m)\n",
    "alpha, beta, nu, m, l, n, q, u = multi_step_onramp_infinite_horizon(A, B, Q, R, M, y0, tf, num_intervals)\n",
    "\n",
    "plt.gcf().set_dpi(512)\n",
    "plt.figure(figsize=(3.75 * 1.5, 3))\n",
    "# plt.plot(t_space, m, label=f\"m\")\n",
    "# plt.plot(t_space, l, label=f\"l\")\n",
    "# plt.plot(t_space, n, label=f\"n\")\n",
    "# plt.plot(t_space, q, label=f\"q\")\n",
    "# plt.plot(t_space, u, label=f\"u\")\n",
    "\n",
    "plt.plot(t_space , m, label=f\"$\\\\bf{{M}}$erge\")\n",
    "plt.plot(t_space , l, label=f\"$\\\\bf{{L}}$eaving\")\n",
    "plt.plot(t_space , n, label=f\"I$\\\\bf{{n}}$put\")\n",
    "plt.plot(t_space , q, label=f\"$\\\\bf{{Q}}$ueue\")\n",
    "plt.plot(t_space , u, label=f\"Control\")\n",
    "\n",
    "\n",
    "# plt.title(f\"Initial Guess: {y0}\\ndelta: {delta}, gamma: {gamma}, m0: {m0}, c: {c}, q6: {q6}\")\n",
    "plt.title(\"Infinite Horizon 1\")\n",
    "plt.xlabel(\"t\")\n",
    "plt.ylabel(\"# of Cars\")\n",
    "plt.legend()\n",
    "plt.savefig(f\"LQR_figures/infinite_multi.pdf\", transparent=False)\n",
    "# plt.show()"
   ]
  },
  {
   "cell_type": "code",
   "execution_count": null,
   "metadata": {},
   "outputs": [],
   "source": []
  }
 ],
 "metadata": {
  "kernelspec": {
   "display_name": "Python 3 (ipykernel)",
   "language": "python",
   "name": "python3"
  },
  "language_info": {
   "codemirror_mode": {
    "name": "ipython",
    "version": 3
   },
   "file_extension": ".py",
   "mimetype": "text/x-python",
   "name": "python",
   "nbconvert_exporter": "python",
   "pygments_lexer": "ipython3",
   "version": "3.10.13"
  }
 },
 "nbformat": 4,
 "nbformat_minor": 4
}
