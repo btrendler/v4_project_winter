{
 "cells": [
  {
   "cell_type": "code",
   "execution_count": 2,
   "metadata": {},
   "outputs": [
    {
     "name": "stderr",
     "output_type": "stream",
     "text": [
      "/usr/lib/python3/dist-packages/scipy/__init__.py:146: UserWarning: A NumPy version >=1.17.3 and <1.25.0 is required for this version of SciPy (detected version 1.26.4\n",
      "  warnings.warn(f\"A NumPy version >={np_minversion} and <{np_maxversion}\"\n"
     ]
    }
   ],
   "source": [
    "import numpy as np\n",
    "from matplotlib import pyplot as plt\n",
    "import ext_compl_rd as ecr\n",
    "import importlib"
   ]
  },
  {
   "cell_type": "markdown",
   "metadata": {},
   "source": [
    "# Extended Complex Road"
   ]
  },
  {
   "cell_type": "markdown",
   "metadata": {},
   "source": [
    "### With vs Without Control"
   ]
  },
  {
   "cell_type": "code",
   "execution_count": 22,
   "metadata": {},
   "outputs": [
    {
     "data": {
      "image/png": "[encoded data removed]",
      "text/plain": [
       "<Figure size 360x216 with 2 Axes>"
      ]
     },
     "metadata": {
      "needs_background": "light"
     },
     "output_type": "display_data"
    }
   ],
   "source": [
    "importlib.reload(ecr)\n",
    "\n",
    "# Setup initial conditions\n",
    "alpha = 1\n",
    "gamma = 1\n",
    "delta = 1\n",
    "beta = 1\n",
    "rho = 1\n",
    "cap = 5.0\n",
    "\n",
    "# Create Segments\n",
    "begin_segment = ecr.BeginSegment(\n",
    "    3., \n",
    "    ecr.ts(lambda c: (alpha - (alpha*c)/cap, -alpha/cap)),\n",
    "    ecr.ts(lambda c, n: (gamma*c*(1-n/cap)*(1-c/cap), gamma - 2*gamma*c/cap - gamma*n/cap + 2*gamma*c*n/(cap**2), -gamma*c/cap + gamma*c**2/(cap**2)))                                 \n",
    ")\n",
    "\n",
    "merge_segment_yes_control = ecr.MergeSegment(\n",
    "    4.,\n",
    "    7.,\n",
    "    5.,\n",
    "    ecr.ts(lambda c, n: (delta*c*(1-c/cap), delta - 2*delta*c/cap, 0)),\n",
    "    ecr.ts(lambda c, q: (beta*(1-c/cap), -beta*c/cap, 0)),\n",
    "    # ecr.ts(lambda c, q: (0,0,0))\n",
    ")\n",
    "\n",
    "merge_segment_no_control = ecr.MergeSegment(\n",
    "    4.,\n",
    "    3.,\n",
    "    5.,\n",
    "    ecr.ts(lambda c, n: (delta*c*(1-c/cap), delta - 2*delta*c/cap, 0)),\n",
    "    ecr.ts(lambda c, q: (beta*(1-c/cap), -beta*c/cap, 0)),\n",
    "    ecr.ts(lambda c, q: (rho*q*(1-c/cap)*(1-q/cap), -rho*q/cap + rho*q**2/(cap**2), rho - 2*rho*q/cap - rho*c/cap + 2*rho*q*c/(cap**2)))\n",
    ")\n",
    "\n",
    "end_segment = ecr.EndSegment(\n",
    "    5.0\n",
    ")\n",
    "\n",
    "# Setup the road\n",
    "net_control = ecr.ExtComplRoad()\n",
    "net_control.add(begin_segment)\n",
    "net_control.add(merge_segment_yes_control)\n",
    "net_control.add(end_segment)\n",
    "\n",
    "# Setup initial conditions\n",
    "ni, mi, li = 2., 1.0, 0.\n",
    "init_roads = np.array([ni, mi, li])\n",
    "\n",
    "q1 = 1.\n",
    "init_queues = np.array([q1])\n",
    "\n",
    "t0, tf = 0, 100\n",
    "time_span = (t0, tf)\n",
    "num_intervals = 2000\n",
    "\n",
    "update_func = None\n",
    "\n",
    "# Calculate the solution\n",
    "roads, queues, control = net_control.multi_step(init_roads, init_queues, time_span, update_func, num_intervals)\n",
    "\n",
    "\n",
    "# Work through the uncontrolled solution\n",
    "net_no_control = ecr.ExtComplRoad()\n",
    "net_no_control.add(begin_segment)\n",
    "net_no_control.add(merge_segment_no_control)\n",
    "net_no_control.add(end_segment)\n",
    "\n",
    "# Calculate the uncontrolled solution\n",
    "sol = net_no_control.uncontrolled_result(init_roads, init_queues, time_span)\n",
    "\n",
    "\n",
    "# Plot the results\n",
    "domain = np.linspace(t0, tf, 2002000)\n",
    "uncontrolled_solution = sol(domain)\n",
    "fig = plt.figure(figsize=(5,3))\n",
    "\n",
    "plt.subplot(121)\n",
    "plt.title(f\"Controlled Cars: {-round(roads[-1][-1])}\")\n",
    "for i in range(2):\n",
    "    plt.plot(domain, roads[i], label=[\"Input\", \"Merge\"][i])\n",
    "plt.plot(domain, queues[0], label=\"Queue\")\n",
    "plt.plot(domain, control[0], label=\"Control\")\n",
    "plt.xlabel('t')\n",
    "plt.ylabel('cars')\n",
    "plt.ylim(0,4)\n",
    "plt.legend()\n",
    "\n",
    "plt.subplot(122)\n",
    "plt.title(f\"Uncontrolled Cars: {round(uncontrolled_solution[0][-1][-1])}\")\n",
    "for i in range(2):\n",
    "    plt.plot(domain, uncontrolled_solution[0][i], label=[\"Input\", \"Merge\"][i])\n",
    "plt.plot(domain, uncontrolled_solution[1][0], label=\"Queue\")\n",
    "plt.xlabel('t')\n",
    "plt.ylabel('cars')\n",
    "plt.ylim(0,4)\n",
    "plt.legend()\n",
    "\n",
    "plt.tight_layout()\n",
    "plt.savefig(\"ControlvsNoControl.pdf\", dpi=300)\n",
    "# plt.plot()"
   ]
  }
 ],
 "metadata": {
  "kernelspec": {
   "display_name": "Python 3",
   "language": "python",
   "name": "python3"
  },
  "language_info": {
   "codemirror_mode": {
    "name": "ipython",
    "version": 3
   },
   "file_extension": ".py",
   "mimetype": "text/x-python",
   "name": "python",
   "nbconvert_exporter": "python",
   "pygments_lexer": "ipython3",
   "version": "3.10.12"
  }
 },
 "nbformat": 4,
 "nbformat_minor": 2
}
