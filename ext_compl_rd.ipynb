{
 "cells": [
  {
   "cell_type": "code",
   "execution_count": 6,
   "metadata": {},
   "outputs": [],
   "source": [
    "import numpy as np\n",
    "from matplotlib import pyplot as plt\n",
    "import ext_compl_rd as ecr\n",
    "import importlib"
   ]
  },
  {
   "cell_type": "markdown",
   "metadata": {},
   "source": [
    "# Extended Complex Road"
   ]
  },
  {
   "cell_type": "markdown",
   "metadata": {},
   "source": [
    "### With vs Without Control"
   ]
  },
  {
   "cell_type": "code",
   "execution_count": 55,
   "metadata": {},
   "outputs": [
    {
     "ename": "ValueError",
     "evalue": "Reordering of (A, B) failed because the transformed matrix pair (A, B) would be too far from generalized Schur form; the problem is very ill-conditioned. (A, B) may have been partially reordered.",
     "output_type": "error",
     "traceback": [
      "\u001b[0;31m---------------------------------------------------------------------------\u001b[0m",
      "\u001b[0;31mValueError\u001b[0m                                Traceback (most recent call last)",
      "\u001b[0;32m/tmp/ipykernel_760/128874263.py\u001b[0m in \u001b[0;36m<module>\u001b[0;34m\u001b[0m\n\u001b[1;32m     49\u001b[0m \u001b[0;34m\u001b[0m\u001b[0m\n\u001b[1;32m     50\u001b[0m \u001b[0;31m# Calculate the solution\u001b[0m\u001b[0;34m\u001b[0m\u001b[0;34m\u001b[0m\u001b[0m\n\u001b[0;32m---> 51\u001b[0;31m \u001b[0mroads\u001b[0m\u001b[0;34m,\u001b[0m \u001b[0mqueues\u001b[0m\u001b[0;34m,\u001b[0m \u001b[0mcontrol\u001b[0m \u001b[0;34m=\u001b[0m \u001b[0mnet_control\u001b[0m\u001b[0;34m.\u001b[0m\u001b[0mmulti_step\u001b[0m\u001b[0;34m(\u001b[0m\u001b[0minit_roads\u001b[0m\u001b[0;34m,\u001b[0m \u001b[0minit_queues\u001b[0m\u001b[0;34m,\u001b[0m \u001b[0mtime_span\u001b[0m\u001b[0;34m,\u001b[0m \u001b[0mupdate_func\u001b[0m\u001b[0;34m,\u001b[0m \u001b[0mnum_intervals\u001b[0m\u001b[0;34m)\u001b[0m\u001b[0;34m\u001b[0m\u001b[0;34m\u001b[0m\u001b[0m\n\u001b[0m\u001b[1;32m     52\u001b[0m \u001b[0;34m\u001b[0m\u001b[0m\n\u001b[1;32m     53\u001b[0m \u001b[0;31m# Plot the results\u001b[0m\u001b[0;34m\u001b[0m\u001b[0;34m\u001b[0m\u001b[0m\n",
      "\u001b[0;32m/mnt/c/Users/dseyf/SeniorLabs/Volume4/_Homework/Winter/v4_project_winter/ext_compl_rd.py\u001b[0m in \u001b[0;36mmulti_step\u001b[0;34m(self, init_roads, init_queues, time_span, update_func, num_intervals)\u001b[0m\n\u001b[1;32m    548\u001b[0m \u001b[0;34m\u001b[0m\u001b[0m\n\u001b[1;32m    549\u001b[0m             \u001b[0;31m# Solve on the interval, storing the states & controls\u001b[0m\u001b[0;34m\u001b[0m\u001b[0;34m\u001b[0m\u001b[0m\n\u001b[0;32m--> 550\u001b[0;31m             \u001b[0msol_poly\u001b[0m\u001b[0;34m,\u001b[0m \u001b[0mctrl_poly\u001b[0m \u001b[0;34m=\u001b[0m \u001b[0mself\u001b[0m\u001b[0;34m.\u001b[0m\u001b[0msingle_step\u001b[0m\u001b[0;34m(\u001b[0m\u001b[0minit_roads\u001b[0m\u001b[0;34m,\u001b[0m \u001b[0minit_queues\u001b[0m\u001b[0;34m,\u001b[0m \u001b[0minterval\u001b[0m\u001b[0;34m,\u001b[0m \u001b[0mr_inv\u001b[0m\u001b[0;34m=\u001b[0m\u001b[0mr_inv\u001b[0m\u001b[0;34m)\u001b[0m\u001b[0;34m\u001b[0m\u001b[0;34m\u001b[0m\u001b[0m\n\u001b[0m\u001b[1;32m    551\u001b[0m             \u001b[0mroads\u001b[0m\u001b[0;34m[\u001b[0m\u001b[0;34m:\u001b[0m\u001b[0;34m,\u001b[0m \u001b[0mi0\u001b[0m\u001b[0;34m:\u001b[0m\u001b[0mi1\u001b[0m\u001b[0;34m]\u001b[0m\u001b[0;34m,\u001b[0m \u001b[0mqueues\u001b[0m\u001b[0;34m[\u001b[0m\u001b[0;34m:\u001b[0m\u001b[0;34m,\u001b[0m \u001b[0mi0\u001b[0m\u001b[0;34m:\u001b[0m\u001b[0mi1\u001b[0m\u001b[0;34m]\u001b[0m \u001b[0;34m=\u001b[0m \u001b[0msol_poly\u001b[0m\u001b[0;34m(\u001b[0m\u001b[0mt_space\u001b[0m\u001b[0;34m)\u001b[0m\u001b[0;34m\u001b[0m\u001b[0;34m\u001b[0m\u001b[0m\n\u001b[1;32m    552\u001b[0m             \u001b[0mcontrol\u001b[0m\u001b[0;34m[\u001b[0m\u001b[0;34m:\u001b[0m\u001b[0;34m,\u001b[0m \u001b[0mi0\u001b[0m\u001b[0;34m:\u001b[0m\u001b[0mi1\u001b[0m\u001b[0;34m]\u001b[0m \u001b[0;34m=\u001b[0m \u001b[0mctrl_poly\u001b[0m\u001b[0;34m(\u001b[0m\u001b[0mt_space\u001b[0m\u001b[0;34m)\u001b[0m\u001b[0;34m\u001b[0m\u001b[0;34m\u001b[0m\u001b[0m\n",
      "\u001b[0;32m/mnt/c/Users/dseyf/SeniorLabs/Volume4/_Homework/Winter/v4_project_winter/ext_compl_rd.py\u001b[0m in \u001b[0;36msingle_step\u001b[0;34m(self, init_roads, init_queues, time_span, r_inv)\u001b[0m\n\u001b[1;32m    488\u001b[0m \u001b[0;34m\u001b[0m\u001b[0m\n\u001b[1;32m    489\u001b[0m         \u001b[0;31m# Use the algebraic Ricatti equation to find P\u001b[0m\u001b[0;34m\u001b[0m\u001b[0;34m\u001b[0m\u001b[0m\n\u001b[0;32m--> 490\u001b[0;31m         \u001b[0mP\u001b[0m \u001b[0;34m=\u001b[0m \u001b[0msolve_continuous_are\u001b[0m\u001b[0;34m(\u001b[0m\u001b[0mA\u001b[0m\u001b[0;34m,\u001b[0m \u001b[0mB\u001b[0m\u001b[0;34m,\u001b[0m \u001b[0mQ\u001b[0m\u001b[0;34m,\u001b[0m \u001b[0mR\u001b[0m\u001b[0;34m)\u001b[0m\u001b[0;34m\u001b[0m\u001b[0;34m\u001b[0m\u001b[0m\n\u001b[0m\u001b[1;32m    491\u001b[0m \u001b[0;34m\u001b[0m\u001b[0m\n\u001b[1;32m    492\u001b[0m         \u001b[0;31m# Set up the evolution equation with the optimal control\u001b[0m\u001b[0;34m\u001b[0m\u001b[0;34m\u001b[0m\u001b[0m\n",
      "\u001b[0;32m/usr/lib/python3/dist-packages/scipy/linalg/_solvers.py\u001b[0m in \u001b[0;36msolve_continuous_are\u001b[0;34m(a, b, q, r, e, s, balanced)\u001b[0m\n\u001b[1;32m    488\u001b[0m     \u001b[0mout_str\u001b[0m \u001b[0;34m=\u001b[0m \u001b[0;34m'real'\u001b[0m \u001b[0;32mif\u001b[0m \u001b[0mr_or_c\u001b[0m \u001b[0;34m==\u001b[0m \u001b[0mfloat\u001b[0m \u001b[0;32melse\u001b[0m \u001b[0;34m'complex'\u001b[0m\u001b[0;34m\u001b[0m\u001b[0;34m\u001b[0m\u001b[0m\n\u001b[1;32m    489\u001b[0m \u001b[0;34m\u001b[0m\u001b[0m\n\u001b[0;32m--> 490\u001b[0;31m     _, _, _, _, _, u = ordqz(H, J, sort='lhp', overwrite_a=True,\n\u001b[0m\u001b[1;32m    491\u001b[0m                              \u001b[0moverwrite_b\u001b[0m\u001b[0;34m=\u001b[0m\u001b[0;32mTrue\u001b[0m\u001b[0;34m,\u001b[0m \u001b[0mcheck_finite\u001b[0m\u001b[0;34m=\u001b[0m\u001b[0;32mFalse\u001b[0m\u001b[0;34m,\u001b[0m\u001b[0;34m\u001b[0m\u001b[0;34m\u001b[0m\u001b[0m\n\u001b[1;32m    492\u001b[0m                              output=out_str)\n",
      "\u001b[0;32m/usr/lib/python3/dist-packages/scipy/linalg/_decomp_qz.py\u001b[0m in \u001b[0;36mordqz\u001b[0;34m(A, B, sort, output, overwrite_a, overwrite_b, check_finite)\u001b[0m\n\u001b[1;32m    384\u001b[0m         \u001b[0;32mraise\u001b[0m \u001b[0mValueError\u001b[0m\u001b[0;34m(\u001b[0m\u001b[0;34mf\"Illegal value in argument {-info} of tgsen\"\u001b[0m\u001b[0;34m)\u001b[0m\u001b[0;34m\u001b[0m\u001b[0;34m\u001b[0m\u001b[0m\n\u001b[1;32m    385\u001b[0m     \u001b[0;32melif\u001b[0m \u001b[0minfo\u001b[0m \u001b[0;34m==\u001b[0m \u001b[0;36m1\u001b[0m\u001b[0;34m:\u001b[0m\u001b[0;34m\u001b[0m\u001b[0;34m\u001b[0m\u001b[0m\n\u001b[0;32m--> 386\u001b[0;31m         raise ValueError(\"Reordering of (A, B) failed because the transformed\"\n\u001b[0m\u001b[1;32m    387\u001b[0m                          \u001b[0;34m\" matrix pair (A, B) would be too far from \"\u001b[0m\u001b[0;34m\u001b[0m\u001b[0;34m\u001b[0m\u001b[0m\n\u001b[1;32m    388\u001b[0m                          \u001b[0;34m\"generalized Schur form; the problem is very \"\u001b[0m\u001b[0;34m\u001b[0m\u001b[0;34m\u001b[0m\u001b[0m\n",
      "\u001b[0;31mValueError\u001b[0m: Reordering of (A, B) failed because the transformed matrix pair (A, B) would be too far from generalized Schur form; the problem is very ill-conditioned. (A, B) may have been partially reordered."
     ]
    }
   ],
   "source": [
    "importlib.reload(ecr)\n",
    "\n",
    "# Setup initial conditions\n",
    "alpha = 10\n",
    "gamma = 2\n",
    "delta = 1\n",
    "beta = 4\n",
    "rho = 1\n",
    "cap = 5.0\n",
    "\n",
    "# Create Segments\n",
    "begin_segment = ecr.BeginSegment(\n",
    "    1., \n",
    "    ecr.ts(lambda c: (alpha - (alpha*c)/cap, -alpha/cap)),\n",
    "    ecr.ts(lambda c, n: (gamma*c*(1-n/cap)*(1-c/cap), gamma - 2*gamma*c/cap - gamma*n/cap + 2*gamma*c*n/(cap**2), -gamma*c/cap + gamma*c**2/(cap**2)))                                 \n",
    ")\n",
    "\n",
    "merge_segment = ecr.MergeSegment(\n",
    "    2.,\n",
    "    5.,\n",
    "    1.,\n",
    "    ecr.ts(lambda c, n: (delta*c*(1-c/cap), delta - 2*delta*c/cap, 0)),\n",
    "    ecr.ts(lambda c, q: (beta*(1-c/cap), -beta*c/cap, 0)),\n",
    "    ecr.ts(lambda c, q: (0,0,0))\n",
    ")\n",
    "\n",
    "end_segment = ecr.EndSegment(\n",
    "    2.0\n",
    ")\n",
    "\n",
    "# Setup the road\n",
    "net_control = ecr.ExtComplRoad()\n",
    "net_control.add(begin_segment)\n",
    "net_control.add(merge_segment)\n",
    "net_control.add(end_segment)\n",
    "\n",
    "# Setup initial conditions\n",
    "ni, mi, li = 2., 1.0, 0.\n",
    "init_roads = np.array([ni, mi, li])\n",
    "\n",
    "q1 = 1.\n",
    "init_queues = np.array([q1])\n",
    "\n",
    "t0, tf = 0, 10\n",
    "time_span = (t0, tf)\n",
    "num_intervals = 1000\n",
    "\n",
    "update_func = None\n",
    "\n",
    "# Calculate the solution\n",
    "roads, queues, control = net_control.multi_step(init_roads, init_queues, time_span, update_func, num_intervals)\n",
    "\n",
    "# Plot the results\n",
    "domain = np.linspace(t0, tf, 1001000)\n",
    "fig = plt.figure(figsize=(18,10))\n",
    "\n",
    "plt.title(f\"With Control Ending Leaving Count: {-roads[-1][-1]}\")\n",
    "for i in range(2):\n",
    "    plt.plot(domain, roads[i], label=[\"Input\", \"Merge\"][i])\n",
    "plt.plot(domain, queues[0], label=\"Queue\")\n",
    "plt.plot(domain, control[0], label=\"Control\")\n",
    "plt.legend()\n",
    "\n",
    "plt.tight_layout()\n",
    "plt.show()"
   ]
  }
 ],
 "metadata": {
  "kernelspec": {
   "display_name": "Python 3",
   "language": "python",
   "name": "python3"
  },
  "language_info": {
   "codemirror_mode": {
    "name": "ipython",
    "version": 3
   },
   "file_extension": ".py",
   "mimetype": "text/x-python",
   "name": "python",
   "nbconvert_exporter": "python",
   "pygments_lexer": "ipython3",
   "version": "3.10.12"
  }
 },
 "nbformat": 4,
 "nbformat_minor": 2
}
