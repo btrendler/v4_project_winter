{
 "cells": [
  {
   "cell_type": "code",
   "execution_count": 6,
   "metadata": {},
   "outputs": [],
   "source": [
    "import numpy as np\n",
    "from matplotlib import pyplot as plt\n",
    "import ext_compl_rd as ecr\n",
    "import importlib"
   ]
  },
  {
   "cell_type": "markdown",
   "metadata": {},
   "source": [
    "# Extended Complex Road"
   ]
  },
  {
   "cell_type": "markdown",
   "metadata": {},
   "source": [
    "### Without Control"
   ]
  },
  {
   "cell_type": "code",
   "execution_count": 14,
   "metadata": {},
   "outputs": [
    {
     "data": {
      "image/png": "[encoded data removed]",
      "text/plain": [
       "<Figure size 432x288 with 1 Axes>"
      ]
     },
     "metadata": {
      "needs_background": "light"
     },
     "output_type": "display_data"
    }
   ],
   "source": [
    "importlib.reload(ecr)\n",
    "\n",
    "# Setup initial conditions\n",
    "alpha = 1\n",
    "gamma = 1\n",
    "delta = 1\n",
    "beta = 1\n",
    "rho = 1\n",
    "cap = 5.0\n",
    "\n",
    "# Create Segments\n",
    "begin_segment = ecr.BeginSegment(\n",
    "    3., \n",
    "    ecr.ts(lambda c: (alpha - (alpha*c)/cap, -alpha/cap)),\n",
    "    ecr.ts(lambda c, n: (gamma*c*(1-n/cap)*(1-c/cap), gamma - 2*gamma*c/cap - gamma*n/cap + 2*gamma*c*n/(cap**2), -gamma*c/cap + gamma*c**2/(cap**2)))                                 \n",
    ")\n",
    "\n",
    "merge_segment = ecr.MergeSegment(\n",
    "    2.,\n",
    "    3.,\n",
    "    2.,\n",
    "    ecr.ts(lambda c, n: (delta*c*(1-c/cap), delta - 2*delta*c/cap, 0)),\n",
    "    ecr.ts(lambda c, q: (beta*(1-c/cap), -beta*c/cap, 0)),\n",
    "    ecr.ts(lambda c, q: (rho*q*(1-c/cap)*(1-q/cap), -rho*q/cap + rho*q**2/(cap**2), rho - 2*rho*q/cap - rho*c/cap + 2*rho*q*c/(cap**2))),\n",
    "    0.0\n",
    ")\n",
    "\n",
    "end_segment = ecr.EndSegment(\n",
    "    2.0\n",
    ")\n",
    "\n",
    "# Setup the road\n",
    "net = ecr.ExtComplRoad()\n",
    "net.add(begin_segment)\n",
    "net.add(merge_segment)\n",
    "net.add(end_segment)\n",
    "\n",
    "# Setup initial conditions\n",
    "ni, mi, li = 1., 1., 1.\n",
    "init_roads = np.array([ni, mi, li])\n",
    "\n",
    "q1 = 1.\n",
    "init_queues = np.array([q1])\n",
    "\n",
    "t0, tf = 0,10\n",
    "time_span = (t0, tf)\n",
    "num_intervals = 1000\n",
    "\n",
    "update_func = None\n",
    "\n",
    "# Calculate the solution\n",
    "roads, queues, control = net.multi_step(init_roads, init_queues, time_span, update_func, num_intervals)\n",
    "\n",
    "# Plot the results\n",
    "domain = np.linspace(t0, tf, 1001000)\n",
    "fig = plt.figure()\n",
    "\n",
    "plt.title(f\"Ending Leaving Count: {-roads[-1][-1]}\")\n",
    "for i in range(2):\n",
    "    plt.plot(domain, roads[i], label=[\"Input\", \"Merge\"][i])\n",
    "plt.plot(domain, queues[0], label=\"Queue\")\n",
    "plt.plot(domain, control[0], label=\"Control\")\n",
    "plt.legend()\n",
    "plt.show()"
   ]
  },
  {
   "cell_type": "markdown",
   "metadata": {},
   "source": [
    "### With Control"
   ]
  },
  {
   "cell_type": "code",
   "execution_count": null,
   "metadata": {},
   "outputs": [],
   "source": []
  }
 ],
 "metadata": {
  "kernelspec": {
   "display_name": "Python 3",
   "language": "python",
   "name": "python3"
  },
  "language_info": {
   "codemirror_mode": {
    "name": "ipython",
    "version": 3
   },
   "file_extension": ".py",
   "mimetype": "text/x-python",
   "name": "python",
   "nbconvert_exporter": "python",
   "pygments_lexer": "ipython3",
   "version": "3.10.12"
  }
 },
 "nbformat": 4,
 "nbformat_minor": 2
}
