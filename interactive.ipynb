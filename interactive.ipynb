{
 "cells": [
  {
   "cell_type": "code",
   "id": "initial_id",
   "metadata": {
    "collapsed": true,
    "ExecuteTime": {
     "end_time": "2024-04-18T23:32:25.517749Z",
     "start_time": "2024-04-18T23:32:25.186624Z"
    }
   },
   "source": [
    "from matplotlib import pyplot as plt\n",
    "import numpy as np\n",
    "import ext_compl_rd as ecr\n",
    "import time_player as tp\n",
    "\n",
    "%matplotlib notebook"
   ],
   "outputs": [],
   "execution_count": 1
  },
  {
   "metadata": {},
   "cell_type": "markdown",
   "source": [
    "# This notebook allows you to view real-time, interactive animations of the road system. This has been tested in a terminal window, in the browser, and in PyCharm. It does not work in VSCode.\n",
    "\n"
   ],
   "id": "43250d83d9cc2121"
  },
  {
   "metadata": {},
   "cell_type": "code",
   "outputs": [],
   "execution_count": null,
   "source": "# Model setup",
   "id": "dec0172c71c9efec"
  },
  {
   "metadata": {},
   "cell_type": "markdown",
   "source": "## Interactive Plot 2: Controlled",
   "id": "4fbb2aa9d404d283"
  },
  {
   "metadata": {
    "ExecuteTime": {
     "end_time": "2024-04-19T02:34:15.485442Z",
     "start_time": "2024-04-19T02:34:15.467568Z"
    }
   },
   "cell_type": "code",
   "source": "# Controlled",
   "id": "f2021bdfd8bd882d",
   "outputs": [],
   "execution_count": 8
  }
 ],
 "metadata": {
  "kernelspec": {
   "display_name": "Python 3",
   "language": "python",
   "name": "python3"
  },
  "language_info": {
   "codemirror_mode": {
    "name": "ipython",
    "version": 2
   },
   "file_extension": ".py",
   "mimetype": "text/x-python",
   "name": "python",
   "nbconvert_exporter": "python",
   "pygments_lexer": "ipython2",
   "version": "2.7.6"
  }
 },
 "nbformat": 4,
 "nbformat_minor": 5
}
