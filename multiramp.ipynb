{
 "cells": [
  {
   "cell_type": "code",
   "execution_count": 65,
   "outputs": [],
   "source": [
    "import numpy as np\n",
    "from scipy.linalg import solve_discrete_are\n",
    "from scipy.integrate import solve_ivp"
   ],
   "metadata": {
    "collapsed": false,
    "ExecuteTime": {
     "end_time": "2024-04-11T01:47:55.961328100Z",
     "start_time": "2024-04-11T01:47:55.850571600Z"
    }
   },
   "id": "8b663ccc379b4095"
  },
  {
   "cell_type": "code",
   "execution_count": 66,
   "id": "initial_id",
   "metadata": {
    "collapsed": true,
    "ExecuteTime": {
     "end_time": "2024-04-11T02:05:50.870838400Z",
     "start_time": "2024-04-11T02:05:50.863814Z"
    }
   },
   "outputs": [],
   "source": []
  },
  {
   "cell_type": "code",
   "execution_count": 68,
   "outputs": [],
   "source": [
    "m = ComplexRoad(\n",
    "    \"nmrrrmmmmrrrl\",\n",
    "    np.array([1.,2.,3.,4.,5.,6.,7.,8., 9., 10., 11., 12.]),\n",
    "    np.array([1.,1., 1., 1., 1.]),\n",
    "    np.array([1.7, 3., 2.7, 1., 1.]),\n",
    "    1.\n",
    ")\n",
    "\n",
    "# A, B = m._get_matrix(np.array([0., 0., 0., 0., 0.]))\n",
    "# A.astype(int)"
   ],
   "metadata": {
    "collapsed": false,
    "ExecuteTime": {
     "end_time": "2024-04-11T02:06:03.976495800Z",
     "start_time": "2024-04-11T02:06:03.954482900Z"
    }
   },
   "id": "a4dabf6ea4181aeb"
  }
 ],
 "metadata": {
  "kernelspec": {
   "display_name": "Python 3",
   "language": "python",
   "name": "python3"
  },
  "language_info": {
   "codemirror_mode": {
    "name": "ipython",
    "version": 2
   },
   "file_extension": ".py",
   "mimetype": "text/x-python",
   "name": "python",
   "nbconvert_exporter": "python",
   "pygments_lexer": "ipython2",
   "version": "2.7.6"
  }
 },
 "nbformat": 4,
 "nbformat_minor": 5
}
